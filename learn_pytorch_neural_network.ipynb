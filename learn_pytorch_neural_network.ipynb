{
  "nbformat": 4,
  "nbformat_minor": 0,
  "metadata": {
    "colab": {
      "provenance": [],
      "authorship_tag": "ABX9TyMrgWUuGwmBBSAM7naii+BI",
      "include_colab_link": true
    },
    "kernelspec": {
      "name": "python3",
      "display_name": "Python 3"
    },
    "language_info": {
      "name": "python"
    }
  },
  "cells": [
    {
      "cell_type": "markdown",
      "metadata": {
        "id": "view-in-github",
        "colab_type": "text"
      },
      "source": [
        "<a href=\"https://colab.research.google.com/github/nishant050/learn_pytorch/blob/main/learn_pytorch_neural_network.ipynb\" target=\"_parent\"><img src=\"https://colab.research.google.com/assets/colab-badge.svg\" alt=\"Open In Colab\"/></a>"
      ]
    },
    {
      "cell_type": "code",
      "execution_count": 1,
      "metadata": {
        "id": "mWpBaznDtAvt"
      },
      "outputs": [],
      "source": [
        "import pandas as pd\n",
        "\n",
        "url = 'https://gist.githubusercontent.com/curran/a08a1080b88344b0c8a7/raw/0e7a9b0a5d22642a06d3d5b9bcbad9890c8ee534/iris.csv'\n",
        "data = pd.read_csv(url)"
      ]
    },
    {
      "cell_type": "code",
      "source": [
        "data.head()\n",
        "print(data.species.unique())\n",
        "\n",
        "#first will convert species to category\n",
        "data['species'] = pd.Categorical(data['species'],data.species.unique(), ordered = False)"
      ],
      "metadata": {
        "colab": {
          "base_uri": "https://localhost:8080/"
        },
        "id": "zC9ddYIvttK2",
        "outputId": "09eaeae0-7bde-441b-8358-0e5a701e937f"
      },
      "execution_count": 2,
      "outputs": [
        {
          "output_type": "stream",
          "name": "stdout",
          "text": [
            "['setosa' 'versicolor' 'virginica']\n"
          ]
        }
      ]
    },
    {
      "cell_type": "code",
      "source": [
        "data['labels'] = data.species.cat.codes"
      ],
      "metadata": {
        "id": "abt_5esZubp3"
      },
      "execution_count": 3,
      "outputs": []
    },
    {
      "cell_type": "code",
      "source": [
        "print(data.head())"
      ],
      "metadata": {
        "colab": {
          "base_uri": "https://localhost:8080/"
        },
        "id": "rC7_mZ-9vn7Q",
        "outputId": "04d75a30-b4bd-4a27-e761-e11c507a36c9"
      },
      "execution_count": 4,
      "outputs": [
        {
          "output_type": "stream",
          "name": "stdout",
          "text": [
            "   sepal_length  sepal_width  petal_length  petal_width species  labels\n",
            "0           5.1          3.5           1.4          0.2  setosa       0\n",
            "1           4.9          3.0           1.4          0.2  setosa       0\n",
            "2           4.7          3.2           1.3          0.2  setosa       0\n",
            "3           4.6          3.1           1.5          0.2  setosa       0\n",
            "4           5.0          3.6           1.4          0.2  setosa       0\n"
          ]
        }
      ]
    },
    {
      "cell_type": "code",
      "source": [
        "import torch\n",
        "import torch.nn as nn\n",
        "import torch.nn.functional as F"
      ],
      "metadata": {
        "id": "Q3_qmIYpvuF7"
      },
      "execution_count": 5,
      "outputs": []
    },
    {
      "cell_type": "code",
      "source": [
        "class Model(nn.Module):\n",
        "  def __init__(self, input_size=4, layer1=8, layer2=9, output=3):\n",
        "    super().__init__()\n",
        "    self.h1 = nn.Linear(input_size, layer1)\n",
        "    self.h2 = nn.Linear(layer1, layer2)\n",
        "    self.output = nn.Linear(layer2, output)\n",
        "\n",
        "  def forward(self, x):\n",
        "    x = F.relu(self.h1(x))\n",
        "    x = F.relu(self.h2(x))\n",
        "    x = self.output(x)\n",
        "    return x\n",
        "\n"
      ],
      "metadata": {
        "id": "tw0VEA0dwGHK"
      },
      "execution_count": 6,
      "outputs": []
    },
    {
      "cell_type": "code",
      "source": [
        "torch.manual_seed(41)\n",
        "model = Model()"
      ],
      "metadata": {
        "id": "IvWxJ5qUywlo"
      },
      "execution_count": 7,
      "outputs": []
    },
    {
      "cell_type": "code",
      "source": [
        "print(data.columns)\n",
        "dataset = data.drop('species', axis = 1)\n",
        "print(dataset.head())"
      ],
      "metadata": {
        "colab": {
          "base_uri": "https://localhost:8080/"
        },
        "id": "XX2KOGely1dx",
        "outputId": "a82fd271-dd60-460f-cf4d-1e15c77c35ac"
      },
      "execution_count": 8,
      "outputs": [
        {
          "output_type": "stream",
          "name": "stdout",
          "text": [
            "Index(['sepal_length', 'sepal_width', 'petal_length', 'petal_width', 'species',\n",
            "       'labels'],\n",
            "      dtype='object')\n",
            "   sepal_length  sepal_width  petal_length  petal_width  labels\n",
            "0           5.1          3.5           1.4          0.2       0\n",
            "1           4.9          3.0           1.4          0.2       0\n",
            "2           4.7          3.2           1.3          0.2       0\n",
            "3           4.6          3.1           1.5          0.2       0\n",
            "4           5.0          3.6           1.4          0.2       0\n"
          ]
        }
      ]
    },
    {
      "cell_type": "code",
      "source": [
        "X = dataset.iloc[:,:4]\n",
        "Y = dataset.iloc[:,4]\n",
        "print(X.head(2))\n",
        "print(Y.head(2))\n",
        "X = X.values\n",
        "Y = Y.values"
      ],
      "metadata": {
        "colab": {
          "base_uri": "https://localhost:8080/"
        },
        "id": "WMU7OKHnzo6x",
        "outputId": "3d4b224e-92fe-4a8c-a0d9-28c8873e3f3f"
      },
      "execution_count": 9,
      "outputs": [
        {
          "output_type": "stream",
          "name": "stdout",
          "text": [
            "   sepal_length  sepal_width  petal_length  petal_width\n",
            "0           5.1          3.5           1.4          0.2\n",
            "1           4.9          3.0           1.4          0.2\n",
            "0    0\n",
            "1    0\n",
            "Name: labels, dtype: int8\n"
          ]
        }
      ]
    },
    {
      "cell_type": "code",
      "source": [
        "from sklearn.model_selection import train_test_split"
      ],
      "metadata": {
        "id": "UUy_Ee9z0Mgg"
      },
      "execution_count": 10,
      "outputs": []
    },
    {
      "cell_type": "code",
      "source": [
        "xtrain, xtest, ytrain, ytest =  train_test_split(X, Y, shuffle = True, random_state = 41)\n",
        "\n",
        "print(xtrain.shape)\n",
        "print(xtest.shape)\n",
        "print(ytrain.shape)\n",
        "print(ytest.shape)"
      ],
      "metadata": {
        "colab": {
          "base_uri": "https://localhost:8080/"
        },
        "id": "Iveh3mNW0uxU",
        "outputId": "c3f25759-be29-414a-8487-9543c508e90d"
      },
      "execution_count": 11,
      "outputs": [
        {
          "output_type": "stream",
          "name": "stdout",
          "text": [
            "(112, 4)\n",
            "(38, 4)\n",
            "(112,)\n",
            "(38,)\n"
          ]
        }
      ]
    },
    {
      "cell_type": "code",
      "source": [
        "xtrain = torch.FloatTensor(xtrain)\n",
        "xtest = torch.FloatTensor(xtest)\n",
        "ytrain = torch.LongTensor(ytrain)\n",
        "ytest = torch.LongTensor(ytest)\n",
        "\n",
        "print(type(xtrain))"
      ],
      "metadata": {
        "colab": {
          "base_uri": "https://localhost:8080/"
        },
        "id": "nhCtLLWtlOOM",
        "outputId": "4fb3706a-059d-4724-af2e-7a6f2692399f"
      },
      "execution_count": 12,
      "outputs": [
        {
          "output_type": "stream",
          "name": "stdout",
          "text": [
            "<class 'torch.Tensor'>\n"
          ]
        }
      ]
    },
    {
      "cell_type": "code",
      "source": [
        "criteria = nn.CrossEntropyLoss()\n",
        "optimizer = torch.optim.Adam(model.parameters(), lr = 0.01)"
      ],
      "metadata": {
        "id": "1G6ir4e8qHY4"
      },
      "execution_count": 13,
      "outputs": []
    },
    {
      "cell_type": "code",
      "source": [
        "epochs = 100\n",
        "losses = []\n",
        "\n",
        "for i in range(epochs):\n",
        "  ypred = model.forward(xtrain)\n",
        "  loss = criteria(ypred, ytrain)\n",
        "  losses.append(loss.detach().numpy())\n",
        "\n",
        "  if i % 10 == 0:\n",
        "    print(f'Epoch: {i} and Loss: {loss.detach().numpy()}')\n",
        "\n",
        "  optimizer.zero_grad()\n",
        "  loss.backward()\n",
        "  optimizer.step()\n",
        "\n",
        "\n"
      ],
      "metadata": {
        "colab": {
          "base_uri": "https://localhost:8080/"
        },
        "id": "ylbYwdFHqHiQ",
        "outputId": "9c4eafdf-2515-431b-f199-073a4ca8464a"
      },
      "execution_count": 14,
      "outputs": [
        {
          "output_type": "stream",
          "name": "stdout",
          "text": [
            "Epoch: 0 and Loss: 1.1258066892623901\n",
            "Epoch: 10 and Loss: 1.0084844827651978\n",
            "Epoch: 20 and Loss: 0.8143948316574097\n",
            "Epoch: 30 and Loss: 0.5794722437858582\n",
            "Epoch: 40 and Loss: 0.39621397852897644\n",
            "Epoch: 50 and Loss: 0.2684101462364197\n",
            "Epoch: 60 and Loss: 0.1820579469203949\n",
            "Epoch: 70 and Loss: 0.12539783120155334\n",
            "Epoch: 80 and Loss: 0.09006226062774658\n",
            "Epoch: 90 and Loss: 0.06920257210731506\n"
          ]
        }
      ]
    },
    {
      "cell_type": "code",
      "source": [
        "import matplotlib.pyplot as plt\n",
        "plt.plot(range(epochs), losses)"
      ],
      "metadata": {
        "colab": {
          "base_uri": "https://localhost:8080/",
          "height": 448
        },
        "id": "7MImDlPYzBzT",
        "outputId": "ceeedc47-a54e-49d0-ba11-8084c2ecf430"
      },
      "execution_count": 17,
      "outputs": [
        {
          "output_type": "execute_result",
          "data": {
            "text/plain": [
              "[<matplotlib.lines.Line2D at 0x7988d70ceb90>]"
            ]
          },
          "metadata": {},
          "execution_count": 17
        },
        {
          "output_type": "display_data",
          "data": {
            "text/plain": [
              "<Figure size 640x480 with 1 Axes>"
            ],
            "image/png": "[encoded data removed]"
          },
          "metadata": {}
        }
      ]
    },
    {
      "cell_type": "code",
      "source": [
        "with torch.no_grad():\n",
        "  pred = model.forward(xtest)\n",
        "  print(pred)"
      ],
      "metadata": {
        "colab": {
          "base_uri": "https://localhost:8080/"
        },
        "id": "UCcrj7djzNyp",
        "outputId": "1011432e-7429-4063-a52f-48eaf16778e5"
      },
      "execution_count": 19,
      "outputs": [
        {
          "output_type": "stream",
          "name": "stdout",
          "text": [
            "tensor([[-5.6487,  4.4381,  6.4189],\n",
            "        [-7.2460,  4.2270,  9.4789],\n",
            "        [-8.1180,  5.1633,  9.9525],\n",
            "        [-4.1562,  5.4946,  2.5951],\n",
            "        [-6.8902,  4.8849,  8.1013],\n",
            "        [-3.2179,  5.2316,  1.2746],\n",
            "        [-5.6719,  4.9389,  5.8828],\n",
            "        [-4.0932,  5.5702,  2.3960],\n",
            "        [-6.2625,  4.9111,  6.9620],\n",
            "        [-7.7332,  4.4816, 10.0553],\n",
            "        [-5.4359,  4.9047,  5.5144],\n",
            "        [ 4.5532, -2.2157, -2.8584],\n",
            "        [ 4.2611, -1.9833, -2.7102],\n",
            "        [-1.9546,  3.9484,  0.5671],\n",
            "        [ 3.5306, -1.2567, -2.3742],\n",
            "        [-5.2611,  5.0481,  5.0565],\n",
            "        [ 4.0498, -1.7685, -2.6216],\n",
            "        [-5.5818,  4.5777,  6.1526],\n",
            "        [ 4.4213, -2.1085, -2.7924],\n",
            "        [ 3.4870, -1.2605, -2.3601],\n",
            "        [-2.4667,  4.4665,  0.8545],\n",
            "        [-7.4257,  4.7778,  9.1688],\n",
            "        [ 3.6542, -1.3757, -2.4415],\n",
            "        [ 4.5340, -2.2186, -2.8414],\n",
            "        [-2.4813,  4.5009,  0.8680],\n",
            "        [-3.1270,  5.1250,  1.2191],\n",
            "        [-4.4485,  5.6527,  2.9303],\n",
            "        [-2.8064,  4.8077,  1.0465],\n",
            "        [ 4.5763, -2.2419, -2.8671],\n",
            "        [-4.3902,  5.3395,  3.1849],\n",
            "        [-1.8127,  3.8615,  0.5084],\n",
            "        [-4.4970,  5.7335,  2.9116],\n",
            "        [-5.1663,  3.7217,  6.3746],\n",
            "        [-3.8366,  4.9265,  2.6757],\n",
            "        [-6.8682,  4.8984,  8.0295],\n",
            "        [ 5.6563, -3.1806, -3.3834],\n",
            "        [-6.6158,  5.2738,  7.1547],\n",
            "        [-4.0178,  5.9646,  1.8109]])\n"
          ]
        }
      ]
    }
  ]
}